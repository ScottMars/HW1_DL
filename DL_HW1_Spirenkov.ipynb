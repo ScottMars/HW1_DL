{
 "cells": [
  {
   "cell_type": "code",
   "execution_count": 9,
   "id": "1d350a8f",
   "metadata": {},
   "outputs": [
    {
     "name": "stdout",
     "output_type": "stream",
     "text": [
      "%pylab is deprecated, use %matplotlib inline and import the required libraries.\n",
      "Populating the interactive namespace from numpy and matplotlib\n"
     ]
    }
   ],
   "source": [
    "import struct\n",
    "import os\n",
    "import numpy as np\n",
    "import matplotlib.pyplot as plt\n",
    "import requests, gzip, os, hashlib\n",
    "from scipy.special import expit \n",
    "%pylab inline"
   ]
  },
  {
   "cell_type": "markdown",
   "id": "de9f9fe1",
   "metadata": {},
   "source": [
    "# Код загрузки данных"
   ]
  },
  {
   "cell_type": "code",
   "execution_count": 2,
   "id": "4f5e70a5",
   "metadata": {},
   "outputs": [],
   "source": [
    "def downloader(url):\n",
    "    path = os.getcwd()\n",
    "    fp = os.path.join(path, hashlib.md5(url.encode('utf-8')).hexdigest())\n",
    "    if os.path.isfile(fp):\n",
    "        with open(fp, \"rb\") as f:\n",
    "            data = f.read()\n",
    "    else:\n",
    "        with open(fp, \"wb\") as f:\n",
    "            data = requests.get(url).content\n",
    "            f.write(data)\n",
    "    return np.frombuffer(gzip.decompress(data), dtype=np.uint8).copy()"
   ]
  },
  {
   "cell_type": "code",
   "execution_count": 3,
   "id": "6e47e609",
   "metadata": {},
   "outputs": [],
   "source": [
    "def normalize(X):\n",
    "    return 2.*(X/255.-0.5)\n",
    "\n",
    "def get_data(norm, one_hot):    \n",
    "    # Скачивание данных\n",
    "    img_train = downloader(\"http://yann.lecun.com/exdb/mnist/train-images-idx3-ubyte.gz\")[0x10:].reshape((-1, 28, 28))\n",
    "    lbl_train = downloader(\"http://yann.lecun.com/exdb/mnist/train-labels-idx1-ubyte.gz\")[8:]\n",
    "    img_test = downloader(\"http://yann.lecun.com/exdb/mnist/t10k-images-idx3-ubyte.gz\")[0x10:].reshape((-1, 28*28))\n",
    "    lbl_test = downloader(\"http://yann.lecun.com/exdb/mnist/t10k-labels-idx1-ubyte.gz\")[8:]\n",
    "\n",
    "    # Нормализация данных\n",
    "    if norm:\n",
    "        img_train, img_test = normalize(img_train), normalize(img_test)\n",
    "\n",
    "    # Reshape images to vectors\n",
    "    n_input = img_train.shape[-1]**2\n",
    "    img_train, img_test = img_train.reshape(len(img_train), n_input), img_test.reshape(len(img_test), n_input)\n",
    "\n",
    "    # Compute one-hot labels\n",
    "    n_classes = len(np.unique(lbl_train))\n",
    "    if one_hot:\n",
    "        lbl_train = np.eye(n_classes)[lbl_train]\n",
    "        lbl_test = np.eye(n_classes)[lbl_test]\n",
    "\n",
    "    # Split evaluation dataset from training dataset\n",
    "    prop = 0.95 # 5% of training data will be used for evaluation\n",
    "    split_idx = int(prop*len(img_train))\n",
    "    img_eval, lbl_eval = img_train[split_idx:], lbl_train[split_idx:]\n",
    "    img_train, lbl_train = img_train[:split_idx], lbl_train[:split_idx]\n",
    "\n",
    "    return img_train, lbl_train, img_eval, lbl_eval, img_test, lbl_test, n_classes, n_input"
   ]
  },
  {
   "cell_type": "markdown",
   "id": "043365e1",
   "metadata": {},
   "source": [
    "# Функции активации и инициализации"
   ]
  },
  {
   "cell_type": "code",
   "execution_count": 4,
   "id": "27fc40c7",
   "metadata": {},
   "outputs": [],
   "source": [
    "# Сигмоида\n",
    "def sigma(x):\n",
    "    return expit(x)\n",
    "\n",
    "# Производная сигмоиды\n",
    "def sigma_prime(x):\n",
    "    u = sigma(x)\n",
    "    return u*(1-u)\n",
    "\n",
    "# Релу\n",
    "def relu(x):\n",
    "    return x*(x>0)\n",
    "\n",
    "# Производня релу\n",
    "def relu_prime(x):\n",
    "    return (x>0)\n",
    "\n",
    "# kaiming initialization\n",
    "def kaiming(network_config, l):\n",
    "    return np.random.normal(size=(network_config[l+1], network_config[l])) * np.sqrt(2./network_config[l])"
   ]
  },
  {
   "cell_type": "markdown",
   "id": "80f95984",
   "metadata": {},
   "source": [
    "# MLP - класс нейронной сети"
   ]
  },
  {
   "cell_type": "code",
   "execution_count": 18,
   "id": "eae05efa",
   "metadata": {},
   "outputs": [],
   "source": [
    "class NeuralNetwork(object):\n",
    "\n",
    "    def __init__(self, network_config):\n",
    "        self.n_layers = len(network_config)\n",
    "        # Веса\n",
    "        self.W = [kaiming(network_config, l) for l in range(self.n_layers-1)]\n",
    "        # Баес\n",
    "        self.b = [np.zeros((network_config[l], 1)) for l in range(1, self.n_layers)]\n",
    "        # Пре-активация\n",
    "        self.z = [None for l in range(1, self.n_layers)]\n",
    "        # Активация\n",
    "        self.a = [None for l in range(self.n_layers)]\n",
    "        # Градиенты\n",
    "        self.dW = [None for l in range(self.n_layers-1)] \n",
    "        self.db = [None for l in range(1, self.n_layers)]\n",
    "        # \n",
    "        self.test_losses = []\n",
    "        self.test_accuracy = []\n",
    "        self.valid_losses = []\n",
    "        self.valid_accuracy = []\n",
    "\n",
    "\n",
    "    def grouped_rand_idx(self, n_total, batch_size):\n",
    "        idx = np.random.permutation(n_total)\n",
    "        return [idx[i:i+batch_size] for i in range(0, len(idx), batch_size)]\n",
    "\n",
    "    def optimize(self, x_train, y_train, x_valid, y_valid, x_test, y_test, epochs, batch_size, learning_rate):\n",
    "        eta = learning_rate / batch_size\n",
    "        for epoch in range(epochs):\n",
    "\n",
    "            if epoch % 1 == 0:\n",
    "                self.prediction(x_valid, y_valid, epoch, mode=\"valid\")\n",
    "\n",
    "            if epoch % 10 == 0:\n",
    "                self.visualize_weights(epoch)\n",
    "\n",
    "            idx_list = self.grouped_rand_idx(len(x_train), batch_size)\n",
    "            for idx in idx_list:\n",
    "                # Возьмем батч\n",
    "                x_batch, y_batch = x_train[idx], y_train[idx]\n",
    "                self.feedforward(x_batch) \n",
    "                self.backprop_gradient_descent(y_batch, eta)\n",
    "\n",
    "        self.visualize_weights(epoch+1)\n",
    "        self.prediction(x_valid, y_valid, epoch+1, mode=\"valid\")\n",
    "        # Посчитаем точность и лосс\n",
    "        self.prediction(x_test, y_test, epoch+1, mode=\"test\")\n",
    "\n",
    "    def backprop_gradient_descent(self, Y, eta):\n",
    "        delta = (self.a[-1] - Y) * sigma_prime(self.z[self.n_layers-2])\n",
    "        self.dW[self.n_layers-2] = np.matmul(delta.T, self.a[self.n_layers-2])\n",
    "        self.db[self.n_layers-2] = np.sum(delta.T, axis=1, keepdims=True)\n",
    "\n",
    "        for l in reversed(range(self.n_layers-2)):\n",
    "            delta = np.matmul(delta, self.W[l+1]) * relu_prime(self.z[l])\n",
    "            self.dW[l] = np.matmul(self.a[l].T, delta).T\n",
    "            self.db[l] = np.sum(delta.T, axis=1, keepdims=True)\n",
    "\n",
    "        for l in range(self.n_layers-1):\n",
    "            self.W[l] -= eta * self.dW[l]\n",
    "            self.b[l] -= eta * self.db[l]\n",
    "\n",
    "        self.dW = [None for l in range(self.n_layers-1)]\n",
    "        self.db = [None for l in range(self.n_layers-1)]\n",
    "\n",
    "    def feedforward(self, X):\n",
    "        self.a[0] = X \n",
    "        for l in range(self.n_layers-2):\n",
    "            self.z[l] = np.matmul(self.a[l], self.W[l].T) + self.b[l].T     \n",
    "            self.a[l+1] = relu(self.z[l])                                  \n",
    "        self.z[-1] = np.matmul(self.a[-2], self.W[-1].T) + self.b[-1].T     \n",
    "        self.a[-1] = sigma(self.z[-1])                                      \n",
    "\n",
    "    def pred(self, X, Y):\n",
    "        neurons = X\n",
    "        for l in range(self.n_layers-2):\n",
    "            neurons = relu(np.matmul(neurons, self.W[l].T) + self.b[l].T)\n",
    "        logits = np.matmul(neurons, self.W[-1].T) + self.b[-1].T\n",
    "        accuracy = (np.argmax(logits, axis=1) == np.argmax(Y, axis=1)).sum() / len(X)\n",
    "        loss = np.sum((Y - sigma(logits))**2) / len(X)\n",
    "        return loss, accuracy\n",
    "\n",
    "    def prediction(self, X, Y, epoch, mode):\n",
    "        loss, accuracy = self.pred(X, Y)\n",
    "        if mode == \"valid\":\n",
    "            self.valid_losses.append(loss)\n",
    "            self.valid_accuracy.append(accuracy)   \n",
    "        print('epoch {1} {0}_loss {2:.6f} {0}_accuracy {3:.4f}'.format(mode, epoch, loss, accuracy), flush=True)\n",
    "\n",
    "    def visualize_weights(self, epoch):\n",
    "        nrow, ncol = 11, 11\n",
    "        fig, axes = plt.subplots(nrows = nrow, ncols=ncol, figsize=(ncol, nrow))\n",
    "        for k, ax in enumerate(axes.flatten()):\n",
    "            ax.imshow(self.W[0][k].reshape(28,28), cmap=\"viridis\")\n",
    "            ax.axis(\"off\")\n",
    "        plt.subplots_adjust(left=0.02, bottom=0.02, right=0.98, top=0.98, wspace=0.02, hspace=0.02)\n",
    "        plt.savefig('weights_{}.png'.format(epoch), dpi=150)\n",
    "        plt.close()"
   ]
  },
  {
   "cell_type": "markdown",
   "id": "443237ee",
   "metadata": {},
   "source": [
    "# Обучение"
   ]
  },
  {
   "cell_type": "code",
   "execution_count": 6,
   "id": "a4e6ff83",
   "metadata": {},
   "outputs": [
    {
     "name": "stdout",
     "output_type": "stream",
     "text": [
      "epoch 0 valid_loss 2.750655 valid_accuracy 0.1140\n",
      "epoch 1 valid_loss 0.999843 valid_accuracy 0.0890\n",
      "epoch 2 valid_loss 0.999883 valid_accuracy 0.1110\n",
      "epoch 3 valid_loss 0.970278 valid_accuracy 0.1160\n",
      "epoch 4 valid_loss 0.373878 valid_accuracy 0.7243\n",
      "epoch 5 valid_loss 0.294080 valid_accuracy 0.7537\n",
      "epoch 6 valid_loss 0.278326 valid_accuracy 0.7593\n",
      "epoch 7 valid_loss 0.261936 valid_accuracy 0.7703\n",
      "epoch 8 valid_loss 0.254416 valid_accuracy 0.7727\n",
      "epoch 9 valid_loss 0.251616 valid_accuracy 0.7817\n",
      "epoch 10 valid_loss 0.156661 valid_accuracy 0.8697\n",
      "epoch 11 valid_loss 0.150898 valid_accuracy 0.8740\n",
      "epoch 12 valid_loss 0.145371 valid_accuracy 0.8773\n",
      "epoch 13 valid_loss 0.142152 valid_accuracy 0.8770\n",
      "epoch 14 valid_loss 0.140861 valid_accuracy 0.8770\n",
      "epoch 15 valid_loss 0.139448 valid_accuracy 0.8800\n",
      "epoch 16 valid_loss 0.140426 valid_accuracy 0.8787\n",
      "epoch 17 valid_loss 0.136231 valid_accuracy 0.8810\n",
      "epoch 18 valid_loss 0.136478 valid_accuracy 0.8793\n",
      "epoch 19 valid_loss 0.134084 valid_accuracy 0.8840\n",
      "epoch 20 valid_loss 0.043486 valid_accuracy 0.9753\n",
      "epoch 20 test_loss 0.057263 test_accuracy 0.9682\n"
     ]
    }
   ],
   "source": [
    "# Загрузка данных\n",
    "x_train, y_train, x_valid, y_valid, x_test, y_test, n_classes, n_input = get_data(norm=True, one_hot=True)\n",
    "\n",
    "# Параметры обучения\n",
    "learning_rate = 0.2\n",
    "batch_size = 256\n",
    "epochs = 20\n",
    "network_config = (n_input,) + (128,) + (256,) + (128,) + (n_classes,)\n",
    "\n",
    "# Инициализация\n",
    "network = NeuralNetwork(network_config)\n",
    "\n",
    "# Обучение\n",
    "network.optimize(x_train, y_train, x_valid, y_valid, x_test, y_test, epochs, batch_size, learning_rate)"
   ]
  },
  {
   "cell_type": "markdown",
   "id": "c1ee6227",
   "metadata": {},
   "source": [
    "# Построим график процесса обучения"
   ]
  },
  {
   "cell_type": "code",
   "execution_count": 13,
   "id": "4da1cb09",
   "metadata": {},
   "outputs": [
    {
     "data": {
      "text/plain": [
       "[<matplotlib.lines.Line2D at 0x29d885f40>]"
      ]
     },
     "execution_count": 13,
     "metadata": {},
     "output_type": "execute_result"
    },
    {
     "data": {
      "image/png": "[encoded data removed]",
      "text/plain": [
       "<Figure size 432x288 with 1 Axes>"
      ]
     },
     "metadata": {
      "needs_background": "light"
     },
     "output_type": "display_data"
    }
   ],
   "source": [
    "plt.ylim(-0.1, 1.1)\n",
    "plot(network.valid_accuracy)"
   ]
  },
  {
   "cell_type": "code",
   "execution_count": 15,
   "id": "99fe5829",
   "metadata": {},
   "outputs": [
    {
     "data": {
      "text/plain": [
       "[<matplotlib.lines.Line2D at 0x29d957b20>]"
      ]
     },
     "execution_count": 15,
     "metadata": {},
     "output_type": "execute_result"
    },
    {
     "data": {
      "image/png": "[encoded data removed]",
      "text/plain": [
       "<Figure size 432x288 with 1 Axes>"
      ]
     },
     "metadata": {
      "needs_background": "light"
     },
     "output_type": "display_data"
    }
   ],
   "source": [
    "plt.ylim(-0.1, 1.1)\n",
    "plot(network.valid_losses)"
   ]
  },
  {
   "cell_type": "code",
   "execution_count": null,
   "id": "05bb4ff5",
   "metadata": {},
   "outputs": [],
   "source": []
  }
 ],
 "metadata": {
  "kernelspec": {
   "display_name": "Python 3 (ipykernel)",
   "language": "python",
   "name": "python3"
  },
  "language_info": {
   "codemirror_mode": {
    "name": "ipython",
    "version": 3
   },
   "file_extension": ".py",
   "mimetype": "text/x-python",
   "name": "python",
   "nbconvert_exporter": "python",
   "pygments_lexer": "ipython3",
   "version": "3.9.10"
  }
 },
 "nbformat": 4,
 "nbformat_minor": 5
}
